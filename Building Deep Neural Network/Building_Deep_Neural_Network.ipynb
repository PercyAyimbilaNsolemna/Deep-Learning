{
  "nbformat": 4,
  "nbformat_minor": 0,
  "metadata": {
    "colab": {
      "provenance": [],
      "authorship_tag": "ABX9TyMjcKJ4EvOxaSQQ0o8WeHFq",
      "include_colab_link": true
    },
    "kernelspec": {
      "name": "python3",
      "display_name": "Python 3"
    },
    "language_info": {
      "name": "python"
    }
  },
  "cells": [
    {
      "cell_type": "markdown",
      "metadata": {
        "id": "view-in-github",
        "colab_type": "text"
      },
      "source": [
        "<a href=\"https://colab.research.google.com/github/PercyAyimbilaNsolemna/Deep-Learning/blob/main/Building%20Deep%20Neural%20Network/Building_Deep_Neural_Network.ipynb\" target=\"_parent\"><img src=\"https://colab.research.google.com/assets/colab-badge.svg\" alt=\"Open In Colab\"/></a>"
      ]
    },
    {
      "cell_type": "markdown",
      "source": [
        "# **BUILDING DEEP NEURAL NETWORK**\n",
        "\n",
        "**What we will be doing in the notebook**\n",
        "- In this notebook, we will implement all the functions required to develop a deep neural network\n",
        "\n",
        "- These are the functions used to develop deep neural networks\n",
        "\n",
        "**By the end of the notebook we will be able to**\n",
        "- Use non-linear units like ReLU to improve a neural network\n",
        "\n",
        "- Build a deeper neural network with more than 1 hidden layer\n",
        "\n",
        "- Implement an easy-to-use neural network class\n",
        "\n",
        "\n",
        "**Notation**:\n",
        "- Superscript $[l]$ denotes a quantity associated with the $l^{th}$ layer.\n",
        "    - Example: $a^{[L]}$ is the $L^{th}$ layer activation. $W^{[L]}$ and $b^{[L]}$ are the $L^{th}$ layer parameters.\n",
        "- Superscript $(i)$ denotes a quantity associated with the $i^{th}$ example.\n",
        "    - Example: $x^{(i)}$ is the $i^{th}$ training example.\n",
        "- Lowerscript $i$ denotes the $i^{th}$ entry of a vector.\n",
        "    - Example: $a^{[l]}_i$ denotes the $i^{th}$ entry of the $l^{th}$ layer's activations).\n",
        "\n",
        "Let's get started!"
      ],
      "metadata": {
        "id": "P4Zr6CPOlnT2"
      }
    },
    {
      "cell_type": "markdown",
      "source": [
        "## **IMPORTING PACKAGES**\n",
        "\n",
        "Firstly, we will implement all the packages required to develop the deep neural network\n",
        "\n",
        "- [numpy](www.numpy.org) is the main package for scientific computing with python\n",
        "\n",
        "- [matplotlib](http://matplotlib.org) is a library to plot graphs in python\n",
        "\n",
        "- np.random.seed(1) is used to keep all the random function calls consistent"
      ],
      "metadata": {
        "id": "jSjmWzkkovuj"
      }
    },
    {
      "cell_type": "code",
      "execution_count": 3,
      "metadata": {
        "colab": {
          "base_uri": "https://localhost:8080/"
        },
        "id": "rHgLjV7ikwPC",
        "outputId": "919f6791-fe47-4fb6-88f3-a3d3bd0ff1fa"
      },
      "outputs": [
        {
          "output_type": "stream",
          "name": "stdout",
          "text": [
            "The autoreload extension is already loaded. To reload it, use:\n",
            "  %reload_ext autoreload\n"
          ]
        }
      ],
      "source": [
        "import numpy as np\n",
        "import h5py\n",
        "import matplotlib.pyplot as plt\n",
        "\n",
        "#Imports copy\n",
        "import copy\n",
        "\n",
        "#Ensures that the plots are displayed in the notebook withoutr opening a new window\n",
        "%matplotlib inline\n",
        "\n",
        "#Sets the default size of plots\n",
        "plt.rcParams['figure.figsize'] = (5.0, 4.0)\n",
        "#Specifies how images will be displayed when interpolated\n",
        "plt.rcParams['image.interpolation'] = 'nearest'\n",
        "#Sets the default color map for images to the grayscale\n",
        "plt.rcParams['image.cmap'] = 'gray'\n",
        "\n",
        "%load_ext autoreload\n",
        "%autoreload 2\n",
        "\n",
        "np.random.seed(1)"
      ]
    },
    {
      "cell_type": "code",
      "source": [],
      "metadata": {
        "id": "SSMW5L-Wr2IM"
      },
      "execution_count": null,
      "outputs": []
    }
  ]
}