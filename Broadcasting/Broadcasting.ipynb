{
  "nbformat": 4,
  "nbformat_minor": 0,
  "metadata": {
    "colab": {
      "provenance": [],
      "authorship_tag": "ABX9TyMbUJmTLFbsqwCtriUK3zsU",
      "include_colab_link": true
    },
    "kernelspec": {
      "name": "python3",
      "display_name": "Python 3"
    },
    "language_info": {
      "name": "python"
    }
  },
  "cells": [
    {
      "cell_type": "markdown",
      "metadata": {
        "id": "view-in-github",
        "colab_type": "text"
      },
      "source": [
        "<a href=\"https://colab.research.google.com/github/PercyAyimbilaNsolemna/Deep-Learning/blob/main/Broadcasting/Broadcasting.ipynb\" target=\"_parent\"><img src=\"https://colab.research.google.com/assets/colab-badge.svg\" alt=\"Open In Colab\"/></a>"
      ]
    },
    {
      "cell_type": "markdown",
      "source": [
        "# **BROADCASTING IN PYTHON**\n",
        "\n",
        "This notebook whaat and how broadcasting is performed in python. These concepts will be applied in caluclating gradients and cost functions in each of the neurons in the Neural Network therefore the need to familiarize ourselves with it."
      ],
      "metadata": {
        "id": "SBHaFc4fz1Oc"
      }
    },
    {
      "cell_type": "code",
      "execution_count": 1,
      "metadata": {
        "id": "KBKrsJiMzyNl"
      },
      "outputs": [],
      "source": [
        "#Import numpy as np\n",
        "import numpy as np"
      ]
    },
    {
      "cell_type": "code",
      "source": [
        "#Creates a numpy 3 X 4 matrix\n",
        "A = np.array([[56.0, 0, 4.4, 68.0],\n",
        "              [1.2, 104.0, 52.0, 8.0],\n",
        "              [1.8, 135.0, 99.0, 0.9]])"
      ],
      "metadata": {
        "id": "MZqXpkF50ap_"
      },
      "execution_count": 2,
      "outputs": []
    },
    {
      "cell_type": "code",
      "source": [
        "#Outputs the matrix A\n",
        "print(A)"
      ],
      "metadata": {
        "colab": {
          "base_uri": "https://localhost:8080/"
        },
        "id": "IU1vdLlw1Rny",
        "outputId": "cd8ab476-1ebc-45fa-e995-46ab84370813"
      },
      "execution_count": 4,
      "outputs": [
        {
          "output_type": "stream",
          "name": "stdout",
          "text": [
            "[[ 56.    0.    4.4  68. ]\n",
            " [  1.2 104.   52.    8. ]\n",
            " [  1.8 135.   99.    0.9]]\n"
          ]
        }
      ]
    },
    {
      "cell_type": "code",
      "source": [
        "#Outputs the shape of the matrix\n",
        "print(A.shape)"
      ],
      "metadata": {
        "colab": {
          "base_uri": "https://localhost:8080/"
        },
        "id": "BSjZLK_i1TKv",
        "outputId": "9dfce1ad-d7b4-4f2e-e731-181def5d6cd6"
      },
      "execution_count": 5,
      "outputs": [
        {
          "output_type": "stream",
          "name": "stdout",
          "text": [
            "(3, 4)\n"
          ]
        }
      ]
    },
    {
      "cell_type": "code",
      "source": [
        "#Calculates cal along columns\n",
        "cal = A.sum(axis=0)"
      ],
      "metadata": {
        "id": "6G6Vhzs41fHw"
      },
      "execution_count": 6,
      "outputs": []
    },
    {
      "cell_type": "code",
      "source": [
        "print(cal)"
      ],
      "metadata": {
        "colab": {
          "base_uri": "https://localhost:8080/"
        },
        "id": "N4_zSWQD17wU",
        "outputId": "d04f7795-69b4-4376-98ae-776e8939e375"
      },
      "execution_count": 8,
      "outputs": [
        {
          "output_type": "stream",
          "name": "stdout",
          "text": [
            "[ 59.  239.  155.4  76.9]\n"
          ]
        }
      ]
    },
    {
      "cell_type": "code",
      "source": [
        "#Shape of cal\n",
        "print(cal.shape)"
      ],
      "metadata": {
        "colab": {
          "base_uri": "https://localhost:8080/"
        },
        "id": "PJiPt26119Gb",
        "outputId": "9b3bf5d6-b736-4b7a-bb3f-f3e15aa257e5"
      },
      "execution_count": 9,
      "outputs": [
        {
          "output_type": "stream",
          "name": "stdout",
          "text": [
            "(4,)\n"
          ]
        }
      ]
    },
    {
      "cell_type": "code",
      "source": [
        "#Calculates the percentage of each cell\n",
        "percentages = 100*A/cal"
      ],
      "metadata": {
        "id": "JjOSrT3y2gdP"
      },
      "execution_count": 10,
      "outputs": []
    },
    {
      "cell_type": "markdown",
      "source": [
        "**EXPLANATION**\n",
        "\n",
        "In calculating the percentages, we divide each cell in the 3*4 matrix by the corresponding cell in the 4*1 matrix. This is kindda strange, is it not supposed to shoot an error since the matrices are of different shapes??\n",
        "\n",
        "The error is suppressed because numpy broadcasts the 4*1 matrix over the 3*4 matrix. The two matrices now turns out to be 3*4 and 4*3 matrix enabling the division operation to be performed.\n",
        "\n",
        "An illustration on the two matrices after broadcast\n",
        "\n",
        "\n",
        "A = [\n",
        "      [a b c d],\n",
        "      [e f g h],\n",
        "      [i j k l]\n",
        "]\n",
        "\n",
        "cal = [\n",
        "        [m n o p],\n",
        "        [m n o p],\n",
        "        [m n o p]\n",
        "]\n"
      ],
      "metadata": {
        "id": "NhP-o8Ve3BxR"
      }
    },
    {
      "cell_type": "code",
      "source": [
        "print(percentages)"
      ],
      "metadata": {
        "colab": {
          "base_uri": "https://localhost:8080/"
        },
        "id": "wk66MqaR2ytT",
        "outputId": "09f2181c-9d15-4ea7-aa27-a567fe480b30"
      },
      "execution_count": 11,
      "outputs": [
        {
          "output_type": "stream",
          "name": "stdout",
          "text": [
            "[[94.91525424  0.          2.83140283 88.42652796]\n",
            " [ 2.03389831 43.51464435 33.46203346 10.40312094]\n",
            " [ 3.05084746 56.48535565 63.70656371  1.17035111]]\n"
          ]
        }
      ]
    },
    {
      "cell_type": "code",
      "source": [
        "#Outputs the shape of the percentages matrix\n",
        "print(percentages.shape)"
      ],
      "metadata": {
        "colab": {
          "base_uri": "https://localhost:8080/"
        },
        "id": "xk7AM6sP208h",
        "outputId": "214d799e-1d14-4457-9a31-2b6692ebf65f"
      },
      "execution_count": 12,
      "outputs": [
        {
          "output_type": "stream",
          "name": "stdout",
          "text": [
            "(3, 4)\n"
          ]
        }
      ]
    },
    {
      "cell_type": "code",
      "source": [],
      "metadata": {
        "id": "PAJdf6xp6HeJ"
      },
      "execution_count": null,
      "outputs": []
    }
  ]
}