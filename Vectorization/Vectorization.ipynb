{
  "nbformat": 4,
  "nbformat_minor": 0,
  "metadata": {
    "colab": {
      "provenance": [],
      "authorship_tag": "ABX9TyO1nqXJYcwGzPWU9G68VuSd",
      "include_colab_link": true
    },
    "kernelspec": {
      "name": "python3",
      "display_name": "Python 3"
    },
    "language_info": {
      "name": "python"
    }
  },
  "cells": [
    {
      "cell_type": "markdown",
      "metadata": {
        "id": "view-in-github",
        "colab_type": "text"
      },
      "source": [
        "<a href=\"https://colab.research.google.com/github/PercyAyimbilaNsolemna/Deep-Learning/blob/main/Vectorization/Vectorization.ipynb\" target=\"_parent\"><img src=\"https://colab.research.google.com/assets/colab-badge.svg\" alt=\"Open In Colab\"/></a>"
      ]
    },
    {
      "cell_type": "markdown",
      "source": [
        "# **VECTORIZATION**\n",
        "\n",
        "**Vectorization** is the act of getting rid of explicit for loops in code.\n",
        "\n",
        "In the era of Deep Learning, engineers will obviously develop models using large dataset (big). Using explicit will make the algorithms run slowly therefore speeding the time taken to train Neural Networks\n",
        "\n",
        "This notebook gives a simple demonstration of using a vectorization as compared to using explicit for loops"
      ],
      "metadata": {
        "id": "VBa9WLyE71mT"
      }
    },
    {
      "cell_type": "code",
      "execution_count": 1,
      "metadata": {
        "id": "n4medrhq7uO_"
      },
      "outputs": [],
      "source": [
        "#Imports numpy as np\n",
        "import numpy as np"
      ]
    },
    {
      "cell_type": "code",
      "source": [
        "#Creates a numpy array\n",
        "a = np.array([1, 2, 3, 4])\n",
        "print(a)"
      ],
      "metadata": {
        "colab": {
          "base_uri": "https://localhost:8080/"
        },
        "id": "iahhim6-82ZY",
        "outputId": "2f06a1ee-08fe-4722-d83b-9386f323c5b5"
      },
      "execution_count": 2,
      "outputs": [
        {
          "output_type": "stream",
          "name": "stdout",
          "text": [
            "[1 2 3 4]\n"
          ]
        }
      ]
    },
    {
      "cell_type": "code",
      "source": [
        "#Imports time to track the duration of each of the opeartions\n",
        "import time\n",
        "\n",
        "#Creates a numpy random array of size 1000000\n",
        "a = np.random.rand(1000000)\n",
        "b = np.random.rand(1000000)\n",
        "\n",
        "#Keeps track of the start time for vertorized calculation\n",
        "tic = time.time()\n",
        "#Calculates the dot product of the two numpy arrays using vectorization\n",
        "c = np.dot(a, b)\n",
        "#Tracks the time the vectorized calculation ends\n",
        "toc = time.time()\n",
        "\n",
        "print(c)\n",
        "print(f'Vectorized version: {str(1000 * (toc - tic))}ms\\n')\n",
        "\n",
        "\n",
        "#Using a for loop\n",
        "#Variable c initialization\n",
        "c = 0\n",
        "\n",
        "#Keeps track of the start of the for loop dot product calculation\n",
        "tic = time.time()\n",
        "#Loops through all the elements in the numpy array\n",
        "for i in range(1000000):\n",
        "  #Repeatedly adds the dot product to the sum\n",
        "  c += a[i] * b[i]\n",
        "\n",
        "#Keeps track of the time the for loop calculation ends\n",
        "toc = time.time()\n",
        "\n",
        "print(c)\n",
        "print(f'For loop: {str(1000 * (toc - tic))}ms')"
      ],
      "metadata": {
        "colab": {
          "base_uri": "https://localhost:8080/"
        },
        "id": "0jFC3wm_9E7Z",
        "outputId": "5977983b-60f2-48e3-935a-e8e20e66a207"
      },
      "execution_count": 11,
      "outputs": [
        {
          "output_type": "stream",
          "name": "stdout",
          "text": [
            "249931.2639336997\n",
            "Vectorized version: 1.5850067138671875ms\n",
            "\n",
            "249931.26393370604\n",
            "For loop: 679.2616844177246ms\n"
          ]
        }
      ]
    },
    {
      "cell_type": "markdown",
      "source": [
        "## **EXPLANATION**\n",
        "\n",
        "Huge difference can be found in the time taken for the vectorized implementation and the for loop to both calculate the dot product of both numpy arrays"
      ],
      "metadata": {
        "id": "2zbIX_SPAVDe"
      }
    },
    {
      "cell_type": "code",
      "source": [],
      "metadata": {
        "id": "8jzfdWMp9fyk"
      },
      "execution_count": 6,
      "outputs": []
    }
  ]
}